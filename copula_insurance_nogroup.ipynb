{
 "cells": [
  {
   "cell_type": "markdown",
   "id": "24118e9c",
   "metadata": {},
   "source": [
    "<b>Imports and Reading Dataset</b>"
   ]
  },
  {
   "cell_type": "code",
   "execution_count": 1,
   "id": "c5ec4e52",
   "metadata": {
    "scrolled": true
   },
   "outputs": [
    {
     "name": "stdout",
     "output_type": "stream",
     "text": [
      "   age     sex     bmi  children smoker     region      charges\n",
      "0   19  female  27.900         0    yes  southwest  16884.92400\n",
      "1   18    male  33.770         1     no  southeast   1725.55230\n",
      "2   28    male  33.000         3     no  southeast   4449.46200\n",
      "3   33    male  22.705         0     no  northwest  21984.47061\n",
      "4   32    male  28.880         0     no  northwest   3866.85520\n",
      "5   31  female  25.740         0     no  southeast   3756.62160\n",
      "6   46  female  33.440         1     no  southeast   8240.58960\n",
      "7   37  female  27.740         3     no  northwest   7281.50560\n",
      "8   37    male  29.830         2     no  northeast   6406.41070\n",
      "9   60  female  25.840         0     no  northwest  28923.13692\n",
      "\n",
      "\n"
     ]
    }
   ],
   "source": [
    "# copula_insurance_nogroup.py\n",
    "\n",
    "import pandas as pd\n",
    "from scipy.stats import norm\n",
    "import numpy as np\n",
    "\n",
    "filename = 'insurance.csv' \n",
    "\n",
    "# source: https://www.kaggle.com/datasets/teertha/ushealthinsurancedataset\n",
    "\n",
    "# fields: age, sex, bmi, children, smoker, region, charges\n",
    "# make sure fields do not contain commas, and no missing or wrong values\n",
    "data = pd.read_csv(filename)\n",
    "print(data.head(10))\n",
    "print(\"\\n\")"
   ]
  },
  {
   "cell_type": "markdown",
   "id": "6c9b1228",
   "metadata": {},
   "source": [
    "Now using numerical fields only here: age, bmi, children, charges"
   ]
  },
  {
   "cell_type": "code",
   "execution_count": 2,
   "id": "6975ad9e",
   "metadata": {},
   "outputs": [],
   "source": [
    "# extract numerical columns only\n",
    "# exercise: synthetize with dummy variables for sex, smoker, region\n",
    "age = data.loc[:,\"age\"]\n",
    "bmi = data.loc[:,\"bmi\"]\n",
    "children = data.loc[:,\"children\"]\n",
    "charges = data.loc[:,\"charges\"]"
   ]
  },
  {
   "cell_type": "markdown",
   "id": "03c1426a",
   "metadata": {},
   "source": [
    "<b>Step 1: Compute correlation matrix on real data</b>"
   ]
  },
  {
   "cell_type": "code",
   "execution_count": 3,
   "id": "98ba380a",
   "metadata": {},
   "outputs": [
    {
     "name": "stdout",
     "output_type": "stream",
     "text": [
      "[[1.         0.10927188 0.042469   0.29900819]\n",
      " [0.10927188 1.         0.0127589  0.19834097]\n",
      " [0.042469   0.0127589  1.         0.06799823]\n",
      " [0.29900819 0.19834097 0.06799823 1.        ]]\n",
      "\n",
      "\n"
     ]
    }
   ],
   "source": [
    "# need correlation matrix computed on real data, for Gaussian copula\n",
    "r_data = np.stack((age, bmi, children, charges), axis = 0)\n",
    "r_corr = np.corrcoef(r_data) \n",
    "print(r_corr)\n",
    "print(\"\\n\")"
   ]
  },
  {
   "cell_type": "markdown",
   "id": "d88f2186",
   "metadata": {},
   "source": [
    "Also computing the means for each feature. Not needed here, but useful to see if they make sense and get an idea."
   ]
  },
  {
   "cell_type": "code",
   "execution_count": 4,
   "id": "faaddbd2",
   "metadata": {},
   "outputs": [
    {
     "name": "stdout",
     "output_type": "stream",
     "text": [
      "Mean: 39.21 30.66  1.09  13270\n",
      "Nobs:  1338\n"
     ]
    }
   ],
   "source": [
    "r_mu  = [np.mean(age), np.mean(bmi), np.mean(children), np.mean(charges)]\n",
    "nobs_synth = len(age)\n",
    "print(\"Mean: %5.2f %5.2f %5.2f %6.0f\" % (r_mu[0],r_mu[1],r_mu[2],r_mu[3]))\n",
    "print(\"Nobs: \",nobs_synth)\n",
    "zero = [0, 0, 0, 0] "
   ]
  },
  {
   "cell_type": "markdown",
   "id": "f5399b61",
   "metadata": {},
   "source": [
    "<b>Step 2: Multivariate Gaussian</b>\n",
    "<p>\n",
    "Generate multivariate Gaussian with zero mean and covariance equal to correlation matrix on real data. We generate <code>nobs_synth</code> observations. In this case, the same number as in the real data."
   ]
  },
  {
   "cell_type": "code",
   "execution_count": 5,
   "id": "85d8202b",
   "metadata": {},
   "outputs": [],
   "source": [
    "# this step to reconstruct correl structure in synth. data\n",
    "gfg = np.random.multivariate_normal(zero, r_corr, nobs_synth) \n",
    "g_age = gfg[:,0]\n",
    "g_bmi = gfg[:,1]\n",
    "g_children = gfg[:,2]\n",
    "g_charges = gfg[:,3]"
   ]
  },
  {
   "cell_type": "markdown",
   "id": "041502d5",
   "metadata": {},
   "source": [
    "<b>Step 3 and 4: From Gaussian to Uniform to Target Distrib</b>\n",
    "<p>\n",
    "From the correlated Gaussian with the target correlation structure, extract marginals (the features) and turn them into uniforms on [0, 1]. Then transforms the uniforms into the correct target distribution: the empirical distribution on the real data, for each feature. The correlation structure is preserved."
   ]
  },
  {
   "cell_type": "code",
   "execution_count": 6,
   "id": "c71307be",
   "metadata": {},
   "outputs": [],
   "source": [
    "# this step to transform each Gaussian to target empirical distrib. in real data\n",
    "# ... while preserving correl. structure \n",
    "\n",
    "s_data = []\n",
    "\n",
    "for k in range(nobs_synth):  \n",
    "\n",
    "    # first get uniform distrib. for each\n",
    "    u_age = norm.cdf(g_age[k])\n",
    "    u_bmi = norm.cdf(g_bmi[k])\n",
    "    u_children = norm.cdf(g_children[k])\n",
    "    u_charges = norm.cdf(g_charges[k])\n",
    "\n",
    "    # turn uniform into target distrib.\n",
    "    s_age = np.quantile(age, u_age)                # synthesized age \n",
    "    s_bmi = np.quantile(bmi, u_bmi)                # synthesized bmi\n",
    "    s_children = np.quantile(children, u_children) # synthesized children\n",
    "    s_charges = np.quantile(charges, u_charges)    # synthesized charges\n",
    "    s_data.append((s_age,s_bmi,s_children, s_charges))\n",
    "\n",
    "s_data = np.array(s_data)"
   ]
  },
  {
   "cell_type": "markdown",
   "id": "3183b285",
   "metadata": {},
   "source": [
    "<b>Assessing Quality</b>"
   ]
  },
  {
   "cell_type": "code",
   "execution_count": 7,
   "id": "9aae4b77",
   "metadata": {},
   "outputs": [
    {
     "name": "stdout",
     "output_type": "stream",
     "text": [
      "\n",
      "\n",
      "Mean Synth: 39.29 30.82  1.04  12920\n",
      "Mean Real : 39.21 30.66  1.09  13270\n",
      "\n",
      "\n"
     ]
    }
   ],
   "source": [
    "s_mu = np.mean(s_data, axis=0)\n",
    "print(\"\\n\")\n",
    "print(\"Mean Synth: %5.2f %5.2f %5.2f %6.0f\" % (s_mu[0],s_mu[1],s_mu[2],s_mu[3]))\n",
    "print(\"Mean Real : %5.2f %5.2f %5.2f %6.0f\" % (r_mu[0],r_mu[1],r_mu[2],r_mu[3]))\n",
    "print(\"\\n\")"
   ]
  },
  {
   "cell_type": "code",
   "execution_count": 8,
   "id": "89207ce1",
   "metadata": {},
   "outputs": [
    {
     "name": "stdout",
     "output_type": "stream",
     "text": [
      "[[1.         0.10927188 0.042469   0.29900819]\n",
      " [0.10927188 1.         0.0127589  0.19834097]\n",
      " [0.042469   0.0127589  1.         0.06799823]\n",
      " [0.29900819 0.19834097 0.06799823 1.        ]]\n",
      "\n",
      "\n",
      "[[1.         0.12396177 0.04096097 0.24419305]\n",
      " [0.12396177 1.         0.06499402 0.18377733]\n",
      " [0.04096097 0.06499402 1.         0.08027502]\n",
      " [0.24419305 0.18377733 0.08027502 1.        ]]\n",
      "\n",
      "\n"
     ]
    }
   ],
   "source": [
    "s_corr = np.corrcoef(np.transpose(s_data))\n",
    "print(r_corr)\n",
    "print(\"\\n\")\n",
    "print(s_corr)\n",
    "print(\"\\n\")\n",
    "\n",
    "# exercise: are pairwise scatterplots on real data similar to those on synth?\n",
    "# exercise: try with other seeds"
   ]
  },
  {
   "cell_type": "markdown",
   "id": "e1d4c4d6",
   "metadata": {},
   "source": [
    "<b>Displaying the Synthesized Data</b>"
   ]
  },
  {
   "cell_type": "code",
   "execution_count": 9,
   "id": "7eeab9a7",
   "metadata": {},
   "outputs": [
    {
     "name": "stdout",
     "output_type": "stream",
     "text": [
      "   Column_A   Column_B  Column_C      Column_D\n",
      "0      28.0  26.698331       1.0  33473.814939\n",
      "1      18.0  33.660000       0.0   3990.190229\n",
      "2      36.0  25.175000       2.0  15166.673302\n",
      "3      18.0  39.400746       3.0   7730.054046\n",
      "4      62.0  30.020000       0.0  11835.946011\n",
      "5      32.0  23.968111       2.0  36170.586267\n",
      "6      26.0  41.684222       2.0   3750.076991\n",
      "7      29.0  39.820000       0.0  13964.145682\n",
      "8      36.0  35.792630       1.0  11569.847404\n",
      "9      45.0  30.249154       4.0   6916.795299\n",
      "\n",
      "\n"
     ]
    }
   ],
   "source": [
    "# --- np to pandas array\n",
    "s_data = pd.DataFrame(s_data, columns = ['Column_A','Column_B','Column_C','Column_D'])\n",
    "print(s_data.head(10))\n",
    "print(\"\\n\")"
   ]
  },
  {
   "cell_type": "markdown",
   "id": "5f586a30",
   "metadata": {},
   "source": [
    "and now the real data"
   ]
  },
  {
   "cell_type": "code",
   "execution_count": 10,
   "id": "23b07901",
   "metadata": {},
   "outputs": [
    {
     "name": "stdout",
     "output_type": "stream",
     "text": [
      "   Column_A  Column_B  Column_C     Column_D\n",
      "0      19.0    27.900       0.0  16884.92400\n",
      "1      18.0    33.770       1.0   1725.55230\n",
      "2      28.0    33.000       3.0   4449.46200\n",
      "3      33.0    22.705       0.0  21984.47061\n",
      "4      32.0    28.880       0.0   3866.85520\n",
      "5      31.0    25.740       0.0   3756.62160\n",
      "6      46.0    33.440       1.0   8240.58960\n",
      "7      37.0    27.740       3.0   7281.50560\n",
      "8      37.0    29.830       2.0   6406.41070\n",
      "9      60.0    25.840       0.0  28923.13692\n"
     ]
    }
   ],
   "source": [
    "r_data = np.transpose(r_data)\n",
    "r_data = pd.DataFrame(r_data, columns = ['Column_A','Column_B','Column_C','Column_D'])\n",
    "print(r_data.head(10))"
   ]
  },
  {
   "cell_type": "code",
   "execution_count": null,
   "id": "68e76e0f",
   "metadata": {},
   "outputs": [],
   "source": []
  }
 ],
 "metadata": {
  "kernelspec": {
   "display_name": "Python 3 (ipykernel)",
   "language": "python",
   "name": "python3"
  },
  "language_info": {
   "codemirror_mode": {
    "name": "ipython",
    "version": 3
   },
   "file_extension": ".py",
   "mimetype": "text/x-python",
   "name": "python",
   "nbconvert_exporter": "python",
   "pygments_lexer": "ipython3",
   "version": "3.10.4"
  }
 },
 "nbformat": 4,
 "nbformat_minor": 5
}
