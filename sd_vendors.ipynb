{
 "cells": [
  {
   "cell_type": "markdown",
   "id": "0772adc5",
   "metadata": {},
   "source": [
    "In this notebook, I compare the quality of synthetic data produced by the following vendors: Mostly.ai, Synthesized.io, Gretel, YData.ai and open source SDV (the lite version). The synthetizations from different vendors are stored in the csv file <code>insurance_compare.csv</code>. The first column indicates the vendor; the real data, also in this file, is labeled as \"Real\". I performed the test on 3 datasets. In this notebook, I focus on the insurance data set. More details can be found on my GitHub repository, <a href=\"https://github.com/VincentGranville/Main/tree/main\">here</a>. \n",
    "\n",
    "The comparison method using holdhout is in a separe program, in the same GitHub folder: in that framework, the real data is labeled as \"Validation\" instead of \"Real\"; it is a subset of the real data not used for training the synthesizer."
   ]
  },
  {
   "cell_type": "code",
   "execution_count": 1,
   "id": "6130ecf8",
   "metadata": {},
   "outputs": [],
   "source": [
    "import pandas as pd\n",
    "import numpy as np\n",
    "import scipy\n",
    "from scipy.stats import ks_2samp\n",
    "from statsmodels.distributions.empirical_distribution import ECDF"
   ]
  },
  {
   "cell_type": "markdown",
   "id": "6f546a92",
   "metadata": {},
   "source": [
    "Reading the data. I ignore the categorical feature \"Region\" and focus on continuous or ordinal ones. To compute the correlation between categorical variables, one can use Cramer's V correlation. "
   ]
  },
  {
   "cell_type": "code",
   "execution_count": 2,
   "id": "f05a36d1",
   "metadata": {},
   "outputs": [
    {
     "name": "stdout",
     "output_type": "stream",
     "text": [
      "   Data   age  sex     bmi  children  smoker   charges\n",
      "0  Real  19.0    1  27.900       0.0       1  16884.92\n",
      "1  Real  18.0    0  33.770       1.0       0   1725.55\n",
      "2  Real  28.0    0  33.000       3.0       0   4449.46\n",
      "3  Real  33.0    0  22.705       0.0       0  21984.47\n",
      "4  Real  32.0    0  28.880       0.0       0   3866.86\n"
     ]
    }
   ],
   "source": [
    "dataset = 'insurance_compare.csv'\n",
    "url = \"https://raw.githubusercontent.com/VincentGranville/Main/main/\" + dataset ## insurance_compare.csv\"\n",
    "df = pd.read_csv(url)\n",
    "# df = pd.read_csv(dataset)\n",
    "if dataset == 'insurance_compare.csv':\n",
    "    df = df.drop('region', axis=1)\n",
    "    df = df.dropna(axis='columns')\n",
    "print(df.head())"
   ]
  },
  {
   "cell_type": "markdown",
   "id": "940e2cdc",
   "metadata": {},
   "source": [
    "Storing the real data as a separate dataset. "
   ]
  },
  {
   "cell_type": "code",
   "execution_count": 3,
   "id": "05f55088",
   "metadata": {},
   "outputs": [
    {
     "name": "stdout",
     "output_type": "stream",
     "text": [
      "[[1.900000e+01 1.000000e+00 2.790000e+01 0.000000e+00 1.000000e+00\n",
      "  1.688492e+04]\n",
      " [1.800000e+01 0.000000e+00 3.377000e+01 1.000000e+00 0.000000e+00\n",
      "  1.725550e+03]\n",
      " [2.800000e+01 0.000000e+00 3.300000e+01 3.000000e+00 0.000000e+00\n",
      "  4.449460e+03]\n",
      " ...\n",
      " [1.800000e+01 1.000000e+00 3.685000e+01 0.000000e+00 0.000000e+00\n",
      "  1.629830e+03]\n",
      " [2.100000e+01 1.000000e+00 2.580000e+01 0.000000e+00 0.000000e+00\n",
      "  2.007950e+03]\n",
      " [6.100000e+01 1.000000e+00 2.907000e+01 0.000000e+00 1.000000e+00\n",
      "  2.914136e+04]]\n"
     ]
    }
   ],
   "source": [
    "data_real = df.loc[df['Data'] == 'Real']\n",
    "data_real = data_real.drop('Data', axis=1)\n",
    "data_real = data_real.to_numpy()\n",
    "print(data_real)"
   ]
  },
  {
   "cell_type": "markdown",
   "id": "1651fb27",
   "metadata": {},
   "source": [
    "Computing the correlation matrix (cross-correlations between features) on the real data. The goal is to compare this matrix with those obtained on the various synthetizations, to assess how well cross-correlations present in the real data, are replicated by the various vendors."
   ]
  },
  {
   "cell_type": "code",
   "execution_count": 4,
   "id": "8be037a7",
   "metadata": {},
   "outputs": [
    {
     "name": "stdout",
     "output_type": "stream",
     "text": [
      "[[ 1.          0.02085587  0.10927188  0.042469   -0.02501875  0.29900819]\n",
      " [ 0.02085587  1.         -0.04637115 -0.01716298 -0.07618482 -0.05729207]\n",
      " [ 0.10927188 -0.04637115  1.          0.0127589   0.00375043  0.19834098]\n",
      " [ 0.042469   -0.01716298  0.0127589   1.          0.00767312  0.06799823]\n",
      " [-0.02501875 -0.07618482  0.00375043  0.00767312  1.          0.78725143]\n",
      " [ 0.29900819 -0.05729207  0.19834098  0.06799823  0.78725143  1.        ]]\n"
     ]
    }
   ],
   "source": [
    "r_corr = np.corrcoef(data_real.T) # need to transpose the data to make sense\n",
    "print(r_corr)"
   ]
  },
  {
   "cell_type": "markdown",
   "id": "4f2da57f",
   "metadata": {},
   "source": [
    "Removing the real data (now stored separately) from the data frame. Checking what data is left, that is, the list of vendors. To each vendor corresponds a synthetization. All have the same number of generated observations, which matches the number in the real data."
   ]
  },
  {
   "cell_type": "code",
   "execution_count": 5,
   "id": "5487dd48",
   "metadata": {},
   "outputs": [
    {
     "name": "stdout",
     "output_type": "stream",
     "text": [
      "['YData1', 'YData2', 'Gretel', 'SDV', 'Synthesize.io', 'VG_Copula', 'Mostly.ai']\n"
     ]
    }
   ],
   "source": [
    "ltests = df.Data.unique().tolist()\n",
    "popped_item = ltests.pop(0)   # remove real data from the tests\n",
    "print(ltests)"
   ]
  },
  {
   "cell_type": "markdown",
   "id": "af6d2d44",
   "metadata": {},
   "source": [
    "In the following loop, a <code>test</code> represents a vendor. Ignore VG_copula, which is one of my home-made synthetizations: I used a different copula for each group, making the comparison unfair. The following metrics are computed to assess the quality of the synthetization: \n",
    "<ul>\n",
    "<li> Correlation distances in absolute value (between correlations measured on real data, and correlations measured on the synthetization produced by the vendor <code>test</code>). The printed output, for each vendor, is aggregated over all feature  pairs. The aggregated statistics are average and max.\n",
    "<li> Kolmogorov-Smirnov distance between empirical distribution, for each feature and each vendor. The printed output, for each vendor, is aggregated over all features. The aggregated statistics are average and max. \n",
    "</ul>\n",
    "The first column in the printed output is the dataset used in the test, in this case the insurance dataset. Ignore the last field <code>out_of_range</code>. It is equal to zero, unless the synthetization contains values outside the observed range in the real data.\n",
    "\n",
    "For the 4 evaluation metrics of interest, a value close to 0 (the minimum) means that the synthetization is very faithful. A value close to 1 means that the quality is very poor. For YData, I did two runs. Use YData1 for fair comparison. "
   ]
  },
  {
   "cell_type": "code",
   "execution_count": 6,
   "id": "c4892fa9",
   "metadata": {},
   "outputs": [
    {
     "name": "stdout",
     "output_type": "stream",
     "text": [
      "insurance_compare.csv         YData1 0.015844 0.051774 0.020227 0.030059 0\n",
      "insurance_compare.csv         YData2 0.017100 0.052157 0.022297 0.028401 0\n",
      "insurance_compare.csv         Gretel 0.021085 0.092606 0.040011 0.086254 0\n",
      "insurance_compare.csv            SDV 0.033703 0.350682 0.093176 0.213358 0\n",
      "insurance_compare.csv  Synthesize.io 0.025702 0.070506 0.025870 0.040396 0\n",
      "insurance_compare.csv      VG_Copula 0.013471 0.049100 0.016442 0.032885 0\n",
      "insurance_compare.csv      Mostly.ai 0.017264 0.057882 0.023169 0.041854 0\n"
     ]
    }
   ],
   "source": [
    "for test in ltests:\n",
    "\n",
    "    data_test = df.loc[df['Data'] == test]\n",
    "    data_test = data_test.drop('Data', axis=1)\n",
    "    data_test = data_test.to_numpy()\n",
    "    t_corr = np.corrcoef(data_test.T) \n",
    "    delta = np.abs(t_corr - r_corr)\n",
    "    dim = delta.shape[0]   # number of features\n",
    "  \n",
    "    ks = np.zeros(dim)\n",
    "    out_of_range = 0\n",
    "    for idx in range(dim):\n",
    "        dr = data_real[:,idx]\n",
    "        dt = data_test[:,idx]\n",
    "        stats = ks_2samp(dr, dt)\n",
    "        ks[idx] = stats.statistic\n",
    "        if np.min(dt) < np.min(dr) or np.max(dt) > np.max(dr):\n",
    "            out_of_range = 1\n",
    "    str = \"%20s %14s %8.6f %8.6f %8.6f %8.6f %1d\" % (dataset, test, np.mean(delta), \n",
    "              np.max(delta), np.mean(ks), np.max(ks), out_of_range)\n",
    "    print(str)"
   ]
  },
  {
   "cell_type": "markdown",
   "id": "24500438",
   "metadata": {},
   "source": [
    "Below is a function to produce the scatterplots. There will be 2 x 3 scatterplots in the end, displayed in 2 rows and 3 columns: one per vendor, as well as one for the real data. The selected features chosen for the scatterplots are \"age\" and \"charges\", as they exhibit some unusual patterns and inter-dependency structure, that many vendors fail to identify and replicate. Again, <code>test</code> represents the vendor."
   ]
  },
  {
   "cell_type": "code",
   "execution_count": 7,
   "id": "af92cdfa",
   "metadata": {},
   "outputs": [],
   "source": [
    "def vg_scatter(df, test, counter):\n",
    "\n",
    "    # customized plots, insurance data \n",
    "    # one of 6 plots, subplot position based on counter\n",
    "\n",
    "    data_plot = df.loc[df['Data'] == test]\n",
    "    x = data_plot[['age']].to_numpy()\n",
    "    y = data_plot[['charges']].to_numpy()\n",
    "    plt.subplot(2, 3, counter)\n",
    "    plt.scatter(x, y, s = 0.1, c =\"blue\")\n",
    "    plt.xlabel(test, fontsize = 7)\n",
    "    plt.xticks([])\n",
    "    plt.yticks([])\n",
    "    plt.ylim(0,70000)\n",
    "    plt.xlim(18,64)\n",
    "    return()"
   ]
  },
  {
   "cell_type": "markdown",
   "id": "5ac7019d",
   "metadata": {},
   "source": [
    "Same for histograms, here to illustrate the bimodal distribution for \"charges\". "
   ]
  },
  {
   "cell_type": "code",
   "execution_count": 8,
   "id": "d1e92966",
   "metadata": {},
   "outputs": [],
   "source": [
    "def vg_histo(df, test, counter):\n",
    "\n",
    "    # customized plots, insurance data \n",
    "    # one of 6 plots, subplot position based on counter\n",
    "\n",
    "    data_plot = df.loc[df['Data'] == test]\n",
    "    y = data_plot[['charges']].to_numpy()\n",
    "    plt.subplot(2, 3, counter)\n",
    "    binBoundaries = np.linspace(0, 70000, 30)\n",
    "    plt.hist(y, bins=binBoundaries, color='white', align='mid',edgecolor='red',\n",
    "              linewidth = 0.3) \n",
    "    plt.xlabel(test, fontsize = 7)\n",
    "    plt.xticks([])\n",
    "    plt.yticks([])\n",
    "    plt.xlim(0,70000)\n",
    "    plt.ylim(0, 250)\n",
    "    return()"
   ]
  },
  {
   "cell_type": "code",
   "execution_count": 9,
   "id": "e6a880ec",
   "metadata": {},
   "outputs": [],
   "source": [
    "%matplotlib inline\n",
    "import matplotlib.pyplot as plt\n",
    "import matplotlib as mpl\n",
    "mpl.rcParams['axes.linewidth'] = 0.3"
   ]
  },
  {
   "cell_type": "code",
   "execution_count": 10,
   "id": "91ff59d6",
   "metadata": {},
   "outputs": [
    {
     "data": {
      "image/png": "[encoded data removed]",
      "text/plain": [
       "<Figure size 640x480 with 6 Axes>"
      ]
     },
     "metadata": {},
     "output_type": "display_data"
    }
   ],
   "source": [
    "vg_scatter(df, 'Real', 1)\n",
    "vg_scatter(df, 'YData1', 2)\n",
    "vg_scatter(df, 'Gretel', 3)\n",
    "vg_scatter(df, 'Mostly.ai', 4)\n",
    "vg_scatter(df, 'Synthesize.io', 5)\n",
    "vg_scatter(df, 'SDV', 6)\n",
    "plt.show()"
   ]
  },
  {
   "cell_type": "code",
   "execution_count": 11,
   "id": "9850b3bb",
   "metadata": {},
   "outputs": [
    {
     "data": {
      "image/png": "[encoded data removed]",
      "text/plain": [
       "<Figure size 640x480 with 6 Axes>"
      ]
     },
     "metadata": {},
     "output_type": "display_data"
    }
   ],
   "source": [
    "vg_histo(df, 'Real', 1)\n",
    "vg_histo(df, 'YData1', 2)\n",
    "vg_histo(df, 'Gretel', 3)\n",
    "vg_histo(df, 'Mostly.ai', 4)\n",
    "vg_histo(df, 'Synthesize.io', 5)\n",
    "vg_histo(df, 'SDV', 6)\n",
    "plt.show()"
   ]
  },
  {
   "cell_type": "markdown",
   "id": "dd837cc3",
   "metadata": {},
   "source": [
    "YData wins here: this is particularly obvious if you look at the scatterplots. It also scores very well on the other datasets, making it number 1 overall. While Gretel seems to be doing well on the scatterplot, its synthetic data is not properly spread; it is actually performing poorly, if you look at the results in cell 6."
   ]
  },
  {
   "cell_type": "code",
   "execution_count": null,
   "id": "346993f0",
   "metadata": {},
   "outputs": [],
   "source": []
  }
 ],
 "metadata": {
  "kernelspec": {
   "display_name": "Python 3 (ipykernel)",
   "language": "python",
   "name": "python3"
  },
  "language_info": {
   "codemirror_mode": {
    "name": "ipython",
    "version": 3
   },
   "file_extension": ".py",
   "mimetype": "text/x-python",
   "name": "python",
   "nbconvert_exporter": "python",
   "pygments_lexer": "ipython3",
   "version": "3.10.4"
  }
 },
 "nbformat": 4,
 "nbformat_minor": 5
}
